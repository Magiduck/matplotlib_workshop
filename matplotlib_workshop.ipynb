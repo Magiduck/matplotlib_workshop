{
 "cells": [
  {
   "cell_type": "markdown",
   "metadata": {
    "slideshow": {
     "slide_type": "slide"
    }
   },
   "source": [
    "# An introduction to making scientific figures in Python with the Matplotlib visualization library\n",
    "## Tijs van Lieshout\n",
    "## 2nd of March 2020"
   ]
  },
  {
   "cell_type": "code",
   "execution_count": null,
   "metadata": {
    "slideshow": {
     "slide_type": "fragment"
    }
   },
   "outputs": [],
   "source": [
    "print(\"An interactive demo/workshop!\")"
   ]
  },
  {
   "cell_type": "markdown",
   "metadata": {
    "slideshow": {
     "slide_type": "slide"
    }
   },
   "source": [
    "# Why matplotlib?\n",
    "## \"Matplotlib makes easy things easy and hard things possible.\"\n",
    "- Low-level > good for learning / understanding the basics\n",
    "- Works fine for simple data and python datatypes\n"
   ]
  },
  {
   "cell_type": "markdown",
   "metadata": {
    "slideshow": {
     "slide_type": "slide"
    }
   },
   "source": [
    "# Installation"
   ]
  },
  {
   "cell_type": "code",
   "execution_count": null,
   "metadata": {
    "slideshow": {
     "slide_type": "fragment"
    }
   },
   "outputs": [],
   "source": [
    "pip install matplotlib"
   ]
  },
  {
   "cell_type": "code",
   "execution_count": null,
   "metadata": {
    "slideshow": {
     "slide_type": "fragment"
    }
   },
   "outputs": [],
   "source": [
    "import matplotlib.pyplot as plt"
   ]
  },
  {
   "cell_type": "markdown",
   "metadata": {
    "slideshow": {
     "slide_type": "slide"
    }
   },
   "source": [
    "# Terminology\n",
    "![Terminology](https://matplotlib.org/stable/_images/anatomy.png)"
   ]
  },
  {
   "cell_type": "markdown",
   "metadata": {
    "slideshow": {
     "slide_type": "slide"
    }
   },
   "source": [
    "# Basics of matplotlib\n",
    "## Explained with data from kittens\n",
    "\n",
    "![Kitten](https://vetsonparker.com.au/wp-content/uploads/2017/08/kitten.jpg)"
   ]
  },
  {
   "cell_type": "markdown",
   "metadata": {
    "slideshow": {
     "slide_type": "slide"
    }
   },
   "source": [
    "# The dataset\n",
    "## Cat weight in kg by age in months"
   ]
  },
  {
   "cell_type": "code",
   "execution_count": null,
   "metadata": {
    "slideshow": {
     "slide_type": "fragment"
    }
   },
   "outputs": [],
   "source": [
    "# data from https://www.healthynex.com/cat-weight-chart-by-age-in-kg-ib.html\n",
    "cat_age_in_months = [1, 2, 3, 4, 5, 7, 9, 10, 11, 12]\n",
    "cat_weight_in_kg = [0.8, 1.3, 1.8, 1.9, 1.9, 2.0, 2.1, 2.1, 2.2, 2.2]"
   ]
  },
  {
   "cell_type": "code",
   "execution_count": null,
   "metadata": {
    "slideshow": {
     "slide_type": "fragment"
    }
   },
   "outputs": [],
   "source": [
    "print(len(cat_age_in_months) == len(cat_weight_in_kg))"
   ]
  },
  {
   "cell_type": "code",
   "execution_count": null,
   "metadata": {
    "slideshow": {
     "slide_type": "slide"
    }
   },
   "outputs": [],
   "source": [
    "plt.figure(figsize=(12, 8))\n",
    "plt.plot(cat_age_in_months, cat_weight_in_kg)\n",
    "plt.show()"
   ]
  },
  {
   "cell_type": "code",
   "execution_count": null,
   "metadata": {
    "scrolled": false,
    "slideshow": {
     "slide_type": "slide"
    }
   },
   "outputs": [],
   "source": [
    "plt.figure(figsize=(12, 8))\n",
    "# o, ro, k+, c--, mD\n",
    "plt.plot(cat_age_in_months, cat_weight_in_kg, 'mD')\n",
    "plt.show()"
   ]
  },
  {
   "cell_type": "code",
   "execution_count": null,
   "metadata": {
    "scrolled": false,
    "slideshow": {
     "slide_type": "slide"
    }
   },
   "outputs": [],
   "source": [
    "plt.figure(figsize=(12, 8))\n",
    "plt.plot(cat_age_in_months, cat_weight_in_kg, 'o')\n",
    "plt.xlabel('Cat age in months')\n",
    "plt.ylabel('Cat weight in kilograms')\n",
    "plt.title(\"Cat weight by age\")\n",
    "plt.show()"
   ]
  },
  {
   "cell_type": "code",
   "execution_count": null,
   "metadata": {
    "slideshow": {
     "slide_type": "slide"
    }
   },
   "outputs": [],
   "source": [
    "plt.rcParams.update({'font.size': 22})"
   ]
  },
  {
   "cell_type": "code",
   "execution_count": null,
   "metadata": {
    "slideshow": {
     "slide_type": "fragment"
    }
   },
   "outputs": [],
   "source": [
    "plt.figure(figsize=(12, 8))\n",
    "plt.plot(cat_age_in_months, cat_weight_in_kg, 'o')\n",
    "plt.xlabel('Cat age in months')\n",
    "plt.ylabel('Cat weight in kilograms')\n",
    "plt.title(\"Cat weight by age\")\n",
    "plt.show()"
   ]
  },
  {
   "cell_type": "markdown",
   "metadata": {
    "slideshow": {
     "slide_type": "slide"
    }
   },
   "source": [
    "# Pyplot vs. Object-oriented style\n"
   ]
  },
  {
   "cell_type": "code",
   "execution_count": null,
   "metadata": {
    "slideshow": {
     "slide_type": "slide"
    }
   },
   "outputs": [],
   "source": [
    "import numpy as np\n",
    "x = np.linspace(0, 2, 100)\n",
    "\n",
    "plt.figure(figsize=(12, 8))\n",
    "plt.plot(x, x, label='linear')  # Plot some data on the (implicit) axes.\n",
    "plt.plot(x, x**2, label='quadratic')  # etc.\n",
    "plt.plot(x, x**3, label='cubic')\n",
    "plt.xlabel('x label')\n",
    "plt.ylabel('y label')\n",
    "plt.title(\"Simple Plot\")\n",
    "plt.legend()"
   ]
  },
  {
   "cell_type": "code",
   "execution_count": null,
   "metadata": {
    "slideshow": {
     "slide_type": "slide"
    }
   },
   "outputs": [],
   "source": [
    "import numpy as np\n",
    "x = np.linspace(0, 2, 100)\n",
    "\n",
    "# Note that even in the OO-style, we use `.pyplot.figure` to create the figure.\n",
    "fig, ax = plt.subplots(figsize=(12, 8))  # Create a figure and an axes.\n",
    "ax.plot(x, x, label='linear')  # Plot some data on the axes.\n",
    "ax.plot(x, x**2, label='quadratic')  # Plot more data on the axes...\n",
    "ax.plot(x, x**3, label='cubic')  # ... and some more.\n",
    "ax.set_xlabel('x label')  # Add an x-label to the axes.\n",
    "ax.set_ylabel('y label')  # Add a y-lacat_body_tempbel to the axes.\n",
    "ax.set_title(\"Simple Plot\")  # Add a title to the axes.\n",
    "ax.legend()  # Add a legend."
   ]
  },
  {
   "cell_type": "markdown",
   "metadata": {
    "slideshow": {
     "slide_type": "slide"
    }
   },
   "source": [
    "# Histogram\n",
    "## The dataset\n",
    "### Cat body temperature"
   ]
  },
  {
   "cell_type": "code",
   "execution_count": null,
   "metadata": {
    "slideshow": {
     "slide_type": "slide"
    }
   },
   "outputs": [],
   "source": [
    "# Data from master course Bayesian Statistics (Emile Apol)\n",
    "cat_body_temp = [39.54, 37.87, 39.02, 38.30, 38.03, 39.27, 38.68, 38.28, 38.39, 38.66,\n",
    "                 39.47, 38.57, 38.93, 38.56, 38.24, 38.91, 38.28, 38.78, 38.50, 38.07, \n",
    "                 37.75, 38.68, 37.74, 38.78, 37.83, 39.09, 37.93, 37.92, 39.03, 38.92,\n",
    "                 38.72, 39.03, 38.52, 38.97, 38.42, 38.72, 38.77, 38.44, 38.14, 37.86, \n",
    "                 38.27, 38.63, 38.35, 38.83, 38.10, 38.54, 38.55, 38.32, 39.56, 38.22]"
   ]
  },
  {
   "cell_type": "code",
   "execution_count": null,
   "metadata": {
    "slideshow": {
     "slide_type": "slide"
    }
   },
   "outputs": [],
   "source": [
    "# Code adapted from master course Bayesian Statistics (Emile Apol)\n",
    "plt.figure(figsize=(12, 8))\n",
    "plt.hist(x=cat_body_temp, \n",
    "         bins='auto', \n",
    "         color='darkgrey',alpha=1, rwidth=1, label='Experimental')\n",
    "plt.grid(axis='y', alpha=0.5)\n",
    "plt.xlabel('Temperature, $T$ (\\xb0C)')\n",
    "plt.ylabel('Frequency')\n",
    "plt.title('Histogram of body temperature of cats')\n",
    "plt.legend(loc='best')\n",
    "plt.show()"
   ]
  },
  {
   "cell_type": "code",
   "execution_count": null,
   "metadata": {
    "slideshow": {
     "slide_type": "fragment"
    }
   },
   "outputs": [],
   "source": [
    "bins = [37.0, 37.25, 37.5, 37.75, 38.0, 38.25, 38.5, 38.75, 39.0, 39.25, 39.5, 39.75, 40.0]"
   ]
  },
  {
   "cell_type": "code",
   "execution_count": null,
   "metadata": {
    "slideshow": {
     "slide_type": "slide"
    }
   },
   "outputs": [],
   "source": [
    "import statistics as stat\n",
    "\n",
    "mean = stat.mean(cat_body_temp)"
   ]
  },
  {
   "cell_type": "code",
   "execution_count": null,
   "metadata": {
    "slideshow": {
     "slide_type": "slide"
    }
   },
   "outputs": [],
   "source": [
    "# Code adapted from master course Bayesian Statistics (Emile Apol)\n",
    "plt.figure(figsize=(12, 8))\n",
    "plt.hist(x=cat_body_temp, \n",
    "         bins=bins, \n",
    "         color='darkgrey',alpha=1, rwidth=1, label='Experimental')\n",
    "plt.axvline(x = mean, color = 'red', linestyle='--', label='Average')\n",
    "plt.text(38.7, 1.2, '$\\^\\mu = ${:.2f} \\xb0C'.format(mean), verticalalignment='center', color='red')\n",
    "plt.grid(axis='y', alpha=0.5)\n",
    "plt.xlabel('Temperature, $T$ (\\xb0C)')\n",
    "plt.ylabel('Frequency')\n",
    "plt.title('Histogram of body temperature of cats')\n",
    "plt.legend(loc='best')\n",
    "plt.show()"
   ]
  },
  {
   "cell_type": "markdown",
   "metadata": {
    "slideshow": {
     "slide_type": "slide"
    }
   },
   "source": [
    "# Categorical data\n",
    "## The dataset\n",
    "### Countries with the most pet cats in the EU"
   ]
  },
  {
   "cell_type": "code",
   "execution_count": null,
   "metadata": {
    "slideshow": {
     "slide_type": "fragment"
    }
   },
   "outputs": [],
   "source": [
    "# data from https://www.worldatlas.com/articles/10-countries-in-the-european-union-with-most-cats.html\n",
    "countries = [\"Germany\", \"France\", \"UK\", \"Italy\", \"Poland\", \"Romania\", \"Spain\", \"Netherlands\", \"Belgium\", \"Austria\"]\n",
    "number_of_cats_in_millions = [14.5, 13.5, 7.5, 7.3, 6.4, 4.3, 3.145, 2.640, 2.050, 2.034]"
   ]
  },
  {
   "cell_type": "code",
   "execution_count": null,
   "metadata": {
    "slideshow": {
     "slide_type": "fragment"
    }
   },
   "outputs": [],
   "source": [
    "print(len(countries) == len(number_of_cats_in_millions))"
   ]
  },
  {
   "cell_type": "markdown",
   "metadata": {
    "slideshow": {
     "slide_type": "slide"
    }
   },
   "source": [
    "![bad_plot](bad_plot_example.png)"
   ]
  },
  {
   "cell_type": "code",
   "execution_count": null,
   "metadata": {
    "scrolled": false,
    "slideshow": {
     "slide_type": "slide"
    }
   },
   "outputs": [],
   "source": [
    "plt.figure(figsize=(12, 8))\n",
    "# plt.plot(countries, number_of_cats_in_millions)\n",
    "plt.bar(countries, number_of_cats_in_millions)\n",
    "plt.xlabel('Country')\n",
    "plt.ylabel('Number of pet cats in millions')\n",
    "plt.title(\"Top 10 countries in the EU with the most cats\")\n",
    "plt.show()"
   ]
  },
  {
   "cell_type": "code",
   "execution_count": null,
   "metadata": {
    "slideshow": {
     "slide_type": "slide"
    }
   },
   "outputs": [],
   "source": [
    "plt.figure(figsize=(12, 8))\n",
    "plt.bar(countries, number_of_cats_in_millions)\n",
    "plt.xticks(rotation=30)\n",
    "plt.xlabel('Country')\n",
    "plt.ylabel('Number of pet cats in millions')\n",
    "plt.title(\"Top 10 countries in the EU with the most cats\")\n",
    "plt.show()"
   ]
  },
  {
   "cell_type": "code",
   "execution_count": null,
   "metadata": {
    "slideshow": {
     "slide_type": "slide"
    }
   },
   "outputs": [],
   "source": [
    "plt.figure(figsize=(12, 8))\n",
    "plt.bar(countries, number_of_cats_in_millions, zorder=3)\n",
    "plt.grid(color='#95a5a6', linestyle='--', linewidth=2, axis='y', alpha=0.7, zorder=0)\n",
    "plt.xticks(rotation=30)\n",
    "plt.xlabel('Country')\n",
    "plt.ylabel('Number of pet cats in millions')\n",
    "plt.title(\"Top 10 countries in the EU with the most cats\")\n",
    "plt.show()"
   ]
  },
  {
   "cell_type": "markdown",
   "metadata": {
    "slideshow": {
     "slide_type": "slide"
    }
   },
   "source": [
    "# Data-Ink ratio\n",
    "$$\\text{Data-Ink ratio} = \\frac{\\text{Data-Ink}}{\\text{Total ink used to print the graphic}}$$"
   ]
  },
  {
   "cell_type": "code",
   "execution_count": null,
   "metadata": {
    "slideshow": {
     "slide_type": "slide"
    }
   },
   "outputs": [],
   "source": [
    "def plot_pet_cats_globally():\n",
    "    fig, ax = plt.subplots(figsize=(12, 8))\n",
    "    rects = ax.bar(countries, number_of_cats_in_millions, color='black')\n",
    "\n",
    "    for rect in rects:\n",
    "            height = rect.get_height()\n",
    "            ax.annotate(xy=(rect.get_x() + rect.get_width()/2., height),\n",
    "                        text=round(height, 1), ha='center', va='bottom')\n",
    "\n",
    "    for spine in ax.spines:\n",
    "        ax.spines[spine].set_visible(False)\n",
    "\n",
    "    ax.set(title=\"Top 10 countries in the EU with the most cats (in millions)\", \n",
    "           yticklabels=[], ylim=(0,16))\n",
    "    ax.tick_params(left=False)\n",
    "\n",
    "    plt.xticks(rotation=30)\n",
    "    return plt"
   ]
  },
  {
   "cell_type": "code",
   "execution_count": null,
   "metadata": {
    "slideshow": {
     "slide_type": "slide"
    }
   },
   "outputs": [],
   "source": [
    "plt.show(plot_pet_cats_globally())"
   ]
  },
  {
   "cell_type": "markdown",
   "metadata": {
    "slideshow": {
     "slide_type": "slide"
    }
   },
   "source": [
    "![bad_plot](comparison.png)"
   ]
  },
  {
   "cell_type": "code",
   "execution_count": null,
   "metadata": {
    "slideshow": {
     "slide_type": "slide"
    }
   },
   "outputs": [],
   "source": [
    "import base64\n",
    "import io \n",
    "\n",
    "def save_fig_to_html(fig):\n",
    "    fig.tight_layout()\n",
    "    \n",
    "    pic_IObytes = io.BytesIO()\n",
    "    fig.savefig(pic_IObytes, format='png')\n",
    "    pic_IObytes.seek(0)\n",
    "    \n",
    "    pic_hash = base64.b64encode(pic_IObytes.read())\n",
    "\n",
    "    image_html =f'<img src=\\'data:image/png;base64,{pic_hash.decode(\"utf-8\")}\\'>'\n",
    "\n",
    "    with open('example.html', 'w') as f:\n",
    "            f.write(image_html)"
   ]
  },
  {
   "cell_type": "code",
   "execution_count": null,
   "metadata": {},
   "outputs": [],
   "source": [
    "fig = plot_pet_cats_globally()\n",
    "save_fig_to_html(fig)"
   ]
  },
  {
   "cell_type": "markdown",
   "metadata": {
    "slideshow": {
     "slide_type": "slide"
    }
   },
   "source": [
    "# For further reading and used sources:\n",
    "- https://matplotlib.org/stable/tutorials/introductory/usage.html\n",
    "- https://matplotlib.org/stable/tutorials/introductory/pyplot.html"
   ]
  }
 ],
 "metadata": {
  "celltoolbar": "Diavoorstelling",
  "kernelspec": {
   "display_name": "Python 3",
   "language": "python",
   "name": "python3"
  },
  "language_info": {
   "codemirror_mode": {
    "name": "ipython",
    "version": 3
   },
   "file_extension": ".py",
   "mimetype": "text/x-python",
   "name": "python",
   "nbconvert_exporter": "python",
   "pygments_lexer": "ipython3",
   "version": "3.7.6"
  }
 },
 "nbformat": 4,
 "nbformat_minor": 5
}
