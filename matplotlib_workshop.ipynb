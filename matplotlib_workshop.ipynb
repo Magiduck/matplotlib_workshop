{
 "cells": [
  {
   "cell_type": "markdown",
   "id": "charged-market",
   "metadata": {
    "slideshow": {
     "slide_type": "slide"
    }
   },
   "source": [
    "# Making scientific figures in Python with Matplotlib\n",
    "## Tijs van Lieshout\n",
    "## 2nd of February 2020"
   ]
  },
  {
   "cell_type": "code",
   "execution_count": 1,
   "id": "apart-string",
   "metadata": {
    "slideshow": {
     "slide_type": "fragment"
    }
   },
   "outputs": [
    {
     "name": "stdout",
     "output_type": "stream",
     "text": [
      "An interactive demo/workshop!\n"
     ]
    }
   ],
   "source": [
    "print(\"An interactive demo/workshop!\")"
   ]
  },
  {
   "cell_type": "markdown",
   "id": "weighted-oxygen",
   "metadata": {
    "slideshow": {
     "slide_type": "slide"
    }
   },
   "source": [
    "# Installation"
   ]
  },
  {
   "cell_type": "code",
   "execution_count": 2,
   "id": "listed-technique",
   "metadata": {
    "slideshow": {
     "slide_type": "fragment"
    }
   },
   "outputs": [
    {
     "name": "stdout",
     "output_type": "stream",
     "text": [
      "Requirement already satisfied: matplotlib in /home/tijs/venvs/DSLSvenv/lib/python3.8/site-packages (3.3.4)\n",
      "Requirement already satisfied: python-dateutil>=2.1 in /home/tijs/venvs/DSLSvenv/lib/python3.8/site-packages (from matplotlib) (2.8.1)\n",
      "Requirement already satisfied: kiwisolver>=1.0.1 in /home/tijs/venvs/DSLSvenv/lib/python3.8/site-packages (from matplotlib) (1.3.1)\n",
      "Requirement already satisfied: pillow>=6.2.0 in /home/tijs/venvs/DSLSvenv/lib/python3.8/site-packages (from matplotlib) (8.1.0)\n",
      "Requirement already satisfied: pyparsing!=2.0.4,!=2.1.2,!=2.1.6,>=2.0.3 in /home/tijs/venvs/DSLSvenv/lib/python3.8/site-packages (from matplotlib) (2.4.7)\n",
      "Requirement already satisfied: cycler>=0.10 in /home/tijs/venvs/DSLSvenv/lib/python3.8/site-packages (from matplotlib) (0.10.0)\n",
      "Requirement already satisfied: numpy>=1.15 in /home/tijs/venvs/DSLSvenv/lib/python3.8/site-packages (from matplotlib) (1.20.0)\n",
      "Requirement already satisfied: six>=1.5 in /home/tijs/venvs/DSLSvenv/lib/python3.8/site-packages (from python-dateutil>=2.1->matplotlib) (1.15.0)\n",
      "Note: you may need to restart the kernel to use updated packages.\n"
     ]
    }
   ],
   "source": [
    "pip install matplotlib"
   ]
  },
  {
   "cell_type": "code",
   "execution_count": 3,
   "id": "boxed-turner",
   "metadata": {
    "slideshow": {
     "slide_type": "fragment"
    }
   },
   "outputs": [],
   "source": [
    "import matplotlib.pyplot as plt"
   ]
  },
  {
   "cell_type": "markdown",
   "id": "normal-anaheim",
   "metadata": {
    "slideshow": {
     "slide_type": "slide"
    }
   },
   "source": [
    "# Basics of matplotlib\n",
    "## Explained with data from kittens\n",
    "\n",
    "![Kitten](https://vetsonparker.com.au/wp-content/uploads/2017/08/kitten.jpg)"
   ]
  },
  {
   "cell_type": "code",
   "execution_count": 4,
   "id": "perceived-commission",
   "metadata": {
    "slideshow": {
     "slide_type": "slide"
    }
   },
   "outputs": [],
   "source": [
    "cat_age_in_months = [1, 2, 3, 4, 5, 7, 9, 11, 12]\n",
    "cat_weight_in_kg = [0.8, 1.3, 1.8, 1.9, 1.9, 2.0, 2.1, 2.2]"
   ]
  }
 ],
 "metadata": {
  "celltoolbar": "Diavoorstelling",
  "kernelspec": {
   "display_name": "Python 3",
   "language": "python",
   "name": "python3"
  },
  "language_info": {
   "codemirror_mode": {
    "name": "ipython",
    "version": 3
   },
   "file_extension": ".py",
   "mimetype": "text/x-python",
   "name": "python",
   "nbconvert_exporter": "python",
   "pygments_lexer": "ipython3",
   "version": "3.8.6"
  }
 },
 "nbformat": 4,
 "nbformat_minor": 5
}
