{
 "cells": [
  {
   "cell_type": "markdown",
   "id": "charged-market",
   "metadata": {
    "slideshow": {
     "slide_type": "slide"
    }
   },
   "source": [
    "# An introduction to making scientific figures in Python with the Matplotlib visualization library\n",
    "## Tijs van Lieshout\n",
    "## 2nd of March 2020"
   ]
  },
  {
   "cell_type": "code",
   "execution_count": null,
   "id": "apart-string",
   "metadata": {
    "slideshow": {
     "slide_type": "fragment"
    }
   },
   "outputs": [],
   "source": [
    "print(\"An interactive demo/workshop!\")"
   ]
  },
  {
   "cell_type": "markdown",
   "id": "blank-assignment",
   "metadata": {
    "slideshow": {
     "slide_type": "slide"
    }
   },
   "source": [
    "# Why matplotlib?\n",
    "## \"Matplotlib makes easy things easy and hard things possible.\"\n",
    "- Low-level > good for learning / understanding the basics\n",
    "- Works fine for simple data and python datatypes\n"
   ]
  },
  {
   "cell_type": "markdown",
   "id": "minute-collectible",
   "metadata": {
    "slideshow": {
     "slide_type": "slide"
    }
   },
   "source": [
    "# Installation"
   ]
  },
  {
   "cell_type": "code",
   "execution_count": null,
   "id": "therapeutic-mediterranean",
   "metadata": {
    "slideshow": {
     "slide_type": "fragment"
    }
   },
   "outputs": [],
   "source": [
    "pip install matplotlib"
   ]
  },
  {
   "cell_type": "code",
   "execution_count": null,
   "id": "actual-taxation",
   "metadata": {
    "slideshow": {
     "slide_type": "fragment"
    }
   },
   "outputs": [],
   "source": [
    "import matplotlib.pyplot as plt"
   ]
  },
  {
   "cell_type": "markdown",
   "id": "thermal-presentation",
   "metadata": {
    "slideshow": {
     "slide_type": "slide"
    }
   },
   "source": [
    "# Terminology\n",
    "![Terminology](https://matplotlib.org/stable/_images/anatomy.png)"
   ]
  },
  {
   "cell_type": "markdown",
   "id": "quarterly-pearl",
   "metadata": {
    "slideshow": {
     "slide_type": "slide"
    }
   },
   "source": [
    "# Basics of matplotlib\n",
    "## Explained with data from kittens\n",
    "\n",
    "![Kitten](https://vetsonparker.com.au/wp-content/uploads/2017/08/kitten.jpg)"
   ]
  },
  {
   "cell_type": "markdown",
   "id": "directed-acting",
   "metadata": {
    "slideshow": {
     "slide_type": "slide"
    }
   },
   "source": [
    "# The dataset\n",
    "## Cat weight in kg by age in months"
   ]
  },
  {
   "cell_type": "code",
   "execution_count": null,
   "id": "perfect-newman",
   "metadata": {
    "slideshow": {
     "slide_type": "fragment"
    }
   },
   "outputs": [],
   "source": [
    "# data from https://www.healthynex.com/cat-weight-chart-by-age-in-kg-ib.html\n",
    "cat_age_in_months = [1, 2, 3, 4, 5, 7, 9, 10, 11, 12]\n",
    "cat_weight_in_kg = [0.8, 1.3, 1.8, 1.9, 1.9, 2.0, 2.1, 2.1, 2.2, 2.2]"
   ]
  },
  {
   "cell_type": "code",
   "execution_count": null,
   "id": "pharmaceutical-burton",
   "metadata": {
    "slideshow": {
     "slide_type": "fragment"
    }
   },
   "outputs": [],
   "source": [
    "print(len(cat_age_in_months) == len(cat_weight_in_kg))"
   ]
  },
  {
   "cell_type": "code",
   "execution_count": null,
   "id": "super-history",
   "metadata": {
    "slideshow": {
     "slide_type": "slide"
    }
   },
   "outputs": [],
   "source": [
    "plt.figure(figsize=(12, 8))\n",
    "plt.plot(cat_age_in_months, cat_weight_in_kg)\n",
    "plt.show()"
   ]
  },
  {
   "cell_type": "code",
   "execution_count": null,
   "id": "athletic-attack",
   "metadata": {
    "scrolled": false,
    "slideshow": {
     "slide_type": "slide"
    }
   },
   "outputs": [],
   "source": [
    "plt.figure(figsize=(12, 8))\n",
    "# o, ro, k+, c--, mD\n",
    "plt.plot(cat_age_in_months, cat_weight_in_kg, 'mD')\n",
    "plt.show()"
   ]
  },
  {
   "cell_type": "code",
   "execution_count": null,
   "id": "fuzzy-medicaid",
   "metadata": {
    "scrolled": false,
    "slideshow": {
     "slide_type": "slide"
    }
   },
   "outputs": [],
   "source": [
    "plt.figure(figsize=(12, 8))\n",
    "plt.plot(cat_age_in_months, cat_weight_in_kg, 'o')\n",
    "plt.xlabel('Cat age in months')\n",
    "plt.ylabel('Cat weight in kilograms')\n",
    "plt.title(\"Cat weight by age\")\n",
    "plt.show()"
   ]
  },
  {
   "cell_type": "code",
   "execution_count": null,
   "id": "weird-martin",
   "metadata": {
    "slideshow": {
     "slide_type": "slide"
    }
   },
   "outputs": [],
   "source": [
    "plt.rcParams.update({'font.size': 22})"
   ]
  },
  {
   "cell_type": "code",
   "execution_count": null,
   "id": "presidential-rover",
   "metadata": {
    "slideshow": {
     "slide_type": "fragment"
    }
   },
   "outputs": [],
   "source": [
    "plt.figure(figsize=(12, 8))\n",
    "plt.plot(cat_age_in_months, cat_weight_in_kg, 'o')\n",
    "plt.xlabel('Cat age in months')\n",
    "plt.ylabel('Cat weight in kilograms')\n",
    "plt.title(\"Cat weight by age\")\n",
    "plt.show()"
   ]
  },
  {
   "cell_type": "markdown",
   "id": "level-checkout",
   "metadata": {
    "slideshow": {
     "slide_type": "slide"
    }
   },
   "source": [
    "# Pyplot vs. Object-oriented style\n"
   ]
  },
  {
   "cell_type": "code",
   "execution_count": null,
   "id": "spatial-metropolitan",
   "metadata": {
    "slideshow": {
     "slide_type": "slide"
    }
   },
   "outputs": [],
   "source": [
    "import numpy as np\n",
    "x = np.linspace(0, 2, 100)\n",
    "\n",
    "plt.figure(figsize=(12, 8))\n",
    "plt.plot(x, x, label='linear')  # Plot some data on the (implicit) axes.\n",
    "plt.plot(x, x**2, label='quadratic')  # etc.\n",
    "plt.plot(x, x**3, label='cubic')\n",
    "plt.xlabel('x label')\n",
    "plt.ylabel('y label')\n",
    "plt.title(\"Simple Plot\")\n",
    "plt.legend()"
   ]
  },
  {
   "cell_type": "code",
   "execution_count": null,
   "id": "framed-luther",
   "metadata": {
    "slideshow": {
     "slide_type": "slide"
    }
   },
   "outputs": [],
   "source": [
    "import numpy as np\n",
    "x = np.linspace(0, 2, 100)\n",
    "\n",
    "# Note that even in the OO-style, we use `.pyplot.figure` to create the figure.\n",
    "fig, ax = plt.subplots(figsize=(12, 8))  # Create a figure and an axes.\n",
    "ax.plot(x, x, label='linear')  # Plot some data on the axes.\n",
    "ax.plot(x, x**2, label='quadratic')  # Plot more data on the axes...\n",
    "ax.plot(x, x**3, label='cubic')  # ... and some more.\n",
    "ax.set_xlabel('x label')  # Add an x-label to the axes.\n",
    "ax.set_ylabel('y label')  # Add a y-label to the axes.\n",
    "ax.set_title(\"Simple Plot\")  # Add a title to the axes.\n",
    "ax.legend()  # Add a legend."
   ]
  },
  {
   "cell_type": "markdown",
   "id": "hollow-contrast",
   "metadata": {
    "slideshow": {
     "slide_type": "slide"
    }
   },
   "source": [
    "# Categorical data\n",
    "## The dataset\n",
    "### Countries with the most pet cats globally"
   ]
  },
  {
   "cell_type": "code",
   "execution_count": null,
   "id": "modified-tower",
   "metadata": {
    "slideshow": {
     "slide_type": "fragment"
    }
   },
   "outputs": [],
   "source": [
    "# data from https://www.worldatlas.com/articles/10-countries-in-the-european-union-with-most-cats.html\n",
    "countries = [\"Germany\", \"France\", \"UK\", \"Italy\", \"Poland\", \"Romania\", \"Spain\", \"Netherlands\", \"Belgium\", \"Austria\"]\n",
    "number_of_cats_in_millions = [14.5, 13.5, 7.5, 7.3, 6.4, 4.3, 3.145, 2.640, 2.050, 2.034]"
   ]
  },
  {
   "cell_type": "code",
   "execution_count": null,
   "id": "alternate-newark",
   "metadata": {
    "slideshow": {
     "slide_type": "fragment"
    }
   },
   "outputs": [],
   "source": [
    "print(len(countries) == len(number_of_cats_in_millions))"
   ]
  },
  {
   "cell_type": "markdown",
   "id": "close-organizer",
   "metadata": {
    "slideshow": {
     "slide_type": "slide"
    }
   },
   "source": [
    "![bad_plot](bad_plot_example.png)"
   ]
  },
  {
   "cell_type": "code",
   "execution_count": null,
   "id": "english-flexibility",
   "metadata": {
    "scrolled": false,
    "slideshow": {
     "slide_type": "slide"
    }
   },
   "outputs": [],
   "source": [
    "plt.figure(figsize=(12, 8))\n",
    "plt.plot(countries, number_of_cats_in_millions, 'o')\n",
    "# plt.bar(countries, number_of_cats_in_millions)\n",
    "plt.xlabel('Country')\n",
    "plt.ylabel('Number of pet cats in millions')\n",
    "plt.title(\"Top 10 countries in the EU with the most cats\")\n",
    "plt.show()"
   ]
  },
  {
   "cell_type": "code",
   "execution_count": null,
   "id": "romantic-semester",
   "metadata": {
    "slideshow": {
     "slide_type": "slide"
    }
   },
   "outputs": [],
   "source": [
    "plt.figure(figsize=(12, 8))\n",
    "plt.bar(countries, number_of_cats_in_millions)\n",
    "plt.xticks(rotation=30)\n",
    "plt.xlabel('Country')\n",
    "plt.ylabel('Number of pet cats in millions')\n",
    "plt.title(\"Top 10 countries in the EU with the most cats\")\n",
    "plt.show()"
   ]
  },
  {
   "cell_type": "code",
   "execution_count": null,
   "id": "approximate-flush",
   "metadata": {
    "slideshow": {
     "slide_type": "slide"
    }
   },
   "outputs": [],
   "source": [
    "plt.figure(figsize=(12, 8))\n",
    "plt.bar(countries, number_of_cats_in_millions, zorder=3)\n",
    "plt.grid(color='#95a5a6', linestyle='--', linewidth=2, axis='y', alpha=0.7, zorder=0)\n",
    "plt.xticks(rotation=30)\n",
    "plt.xlabel('Country')\n",
    "plt.ylabel('Number of pet cats in millions')\n",
    "plt.title(\"Top 10 countries in the EU with the most cats\")\n",
    "plt.show()"
   ]
  },
  {
   "cell_type": "markdown",
   "id": "quiet-cooler",
   "metadata": {
    "slideshow": {
     "slide_type": "slide"
    }
   },
   "source": [
    "# Data-Ink ratio\n",
    "$$\\text{Data-Ink ratio} = \\frac{\\text{Data-Ink}}{\\text{Total ink used to print the graphic}}$$"
   ]
  },
  {
   "cell_type": "code",
   "execution_count": null,
   "id": "accessible-crawford",
   "metadata": {
    "slideshow": {
     "slide_type": "slide"
    }
   },
   "outputs": [],
   "source": [
    "def plot_pet_cats_globally():\n",
    "    fig, ax = plt.subplots(figsize=(12, 8))\n",
    "    rects = ax.bar(countries, number_of_cats_in_millions, color='black')\n",
    "\n",
    "    for rect in rects:\n",
    "            height = rect.get_height()\n",
    "            ax.annotate(xy=(rect.get_x() + rect.get_width()/2., height),\n",
    "                        text=round(height, 1), ha='center', va='bottom')\n",
    "\n",
    "    for spine in ax.spines:\n",
    "        ax.spines[spine].set_visible(False)\n",
    "\n",
    "    ax.set(title=\"Top 10 countries in the EU with the most cats (in millions)\", \n",
    "           yticklabels=[], ylim=(0,16))\n",
    "    ax.tick_params(left=False)\n",
    "\n",
    "    plt.xticks(rotation=30)\n",
    "    return plt"
   ]
  },
  {
   "cell_type": "code",
   "execution_count": null,
   "id": "clear-tomato",
   "metadata": {
    "slideshow": {
     "slide_type": "slide"
    }
   },
   "outputs": [],
   "source": [
    "plt.show(plot_pet_cats_globally())"
   ]
  },
  {
   "cell_type": "markdown",
   "id": "higher-chassis",
   "metadata": {
    "slideshow": {
     "slide_type": "slide"
    }
   },
   "source": [
    "![bad_plot](comparison.png)"
   ]
  },
  {
   "cell_type": "code",
   "execution_count": null,
   "id": "solid-genius",
   "metadata": {
    "slideshow": {
     "slide_type": "slide"
    }
   },
   "outputs": [],
   "source": [
    "import base64\n",
    "import io \n",
    "\n",
    "plt = plot_pet_cats_globally()\n",
    "plt.tight_layout()\n",
    "pic_IObytes = io.BytesIO()\n",
    "plt.savefig(pic_IObytes,  format='png')\n",
    "pic_IObytes.seek(0)\n",
    "pic_hash = base64.b64encode(pic_IObytes.read())\n",
    "\n",
    "image_html =f'<img src=\\'data:image/png;base64,{pic_hash.decode(\"utf-8\")}\\'><br>'\n",
    "\n",
    "with open('example.html', 'w') as f:\n",
    "        f.write(image_html)"
   ]
  },
  {
   "cell_type": "markdown",
   "id": "sweet-maintenance",
   "metadata": {
    "slideshow": {
     "slide_type": "slide"
    }
   },
   "source": [
    "# For further reading and used sources:\n",
    "- https://matplotlib.org/stable/tutorials/introductory/usage.html#sphx-glr-tutorials-introductory-usage-py\n",
    "- https://matplotlib.org/stable/tutorials/introductory/pyplot.html"
   ]
  }
 ],
 "metadata": {
  "celltoolbar": "Diavoorstelling",
  "kernelspec": {
   "display_name": "Python 3",
   "language": "python",
   "name": "python3"
  },
  "language_info": {
   "codemirror_mode": {
    "name": "ipython",
    "version": 3
   },
   "file_extension": ".py",
   "mimetype": "text/x-python",
   "name": "python",
   "nbconvert_exporter": "python",
   "pygments_lexer": "ipython3",
   "version": "3.8.6"
  }
 },
 "nbformat": 4,
 "nbformat_minor": 5
}
