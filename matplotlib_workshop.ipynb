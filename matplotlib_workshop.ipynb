{
 "cells": [
  {
   "cell_type": "markdown",
   "id": "charged-market",
   "metadata": {
    "slideshow": {
     "slide_type": "slide"
    }
   },
   "source": [
    "# Making scientific figures in Python with Matplotlib\n",
    "## Tijs van Lieshout\n",
    "## 2nd of February 2020"
   ]
  },
  {
   "cell_type": "code",
   "execution_count": null,
   "id": "apart-string",
   "metadata": {
    "slideshow": {
     "slide_type": "fragment"
    }
   },
   "outputs": [],
   "source": [
    "print(\"An interactive demo/workshop!\")"
   ]
  },
  {
   "cell_type": "markdown",
   "id": "minute-collectible",
   "metadata": {
    "slideshow": {
     "slide_type": "slide"
    }
   },
   "source": [
    "# Installation"
   ]
  },
  {
   "cell_type": "code",
   "execution_count": null,
   "id": "therapeutic-mediterranean",
   "metadata": {
    "slideshow": {
     "slide_type": "fragment"
    }
   },
   "outputs": [],
   "source": [
    "pip install matplotlib"
   ]
  },
  {
   "cell_type": "code",
   "execution_count": null,
   "id": "actual-taxation",
   "metadata": {
    "slideshow": {
     "slide_type": "fragment"
    }
   },
   "outputs": [],
   "source": [
    "import matplotlib.pyplot as plt"
   ]
  },
  {
   "cell_type": "markdown",
   "id": "quarterly-pearl",
   "metadata": {
    "slideshow": {
     "slide_type": "slide"
    }
   },
   "source": [
    "# Basics of matplotlib\n",
    "## Explained with data from kittens\n",
    "\n",
    "![Kitten](https://vetsonparker.com.au/wp-content/uploads/2017/08/kitten.jpg)"
   ]
  },
  {
   "cell_type": "markdown",
   "id": "directed-acting",
   "metadata": {
    "slideshow": {
     "slide_type": "slide"
    }
   },
   "source": [
    "# The dataset\n",
    "## Cat weight in kg by age in months"
   ]
  },
  {
   "cell_type": "code",
   "execution_count": null,
   "id": "perfect-newman",
   "metadata": {
    "slideshow": {
     "slide_type": "fragment"
    }
   },
   "outputs": [],
   "source": [
    "# data from https://www.healthynex.com/cat-weight-chart-by-age-in-kg-ib.html\n",
    "cat_age_in_months = [1, 2, 3, 4, 5, 7, 9, 10, 11, 12]\n",
    "cat_weight_in_kg = [0.8, 1.3, 1.8, 1.9, 1.9, 2.0, 2.1, 2.1, 2.2, 2.2]"
   ]
  },
  {
   "cell_type": "code",
   "execution_count": null,
   "id": "pharmaceutical-burton",
   "metadata": {
    "slideshow": {
     "slide_type": "fragment"
    }
   },
   "outputs": [],
   "source": [
    "print(len(cat_age_in_months) == len(cat_weight_in_kg))"
   ]
  },
  {
   "cell_type": "code",
   "execution_count": null,
   "id": "super-history",
   "metadata": {
    "slideshow": {
     "slide_type": "slide"
    }
   },
   "outputs": [],
   "source": [
    "# plt.figure(figsize=(15, 10))\n",
    "plt.plot(cat_age_in_months, cat_weight_in_kg)\n",
    "plt.show()"
   ]
  },
  {
   "cell_type": "code",
   "execution_count": null,
   "id": "athletic-attack",
   "metadata": {
    "scrolled": false,
    "slideshow": {
     "slide_type": "slide"
    }
   },
   "outputs": [],
   "source": [
    "plt.figure(figsize=(15, 10))\n",
    "# o, ro, k+, c--, mD\n",
    "plt.plot(cat_age_in_months, cat_weight_in_kg, 'mD')\n",
    "plt.show()"
   ]
  },
  {
   "cell_type": "code",
   "execution_count": null,
   "id": "impressive-chuck",
   "metadata": {
    "scrolled": false,
    "slideshow": {
     "slide_type": "slide"
    }
   },
   "outputs": [],
   "source": [
    "plt.figure(figsize=(15, 10))\n",
    "plt.plot(cat_age_in_months, cat_weight_in_kg, 'o')\n",
    "plt.xlabel('Cat age in months')\n",
    "plt.ylabel('Cat weight in kilograms')\n",
    "plt.title(\"Cat weight by age\")\n",
    "plt.show()"
   ]
  },
  {
   "cell_type": "code",
   "execution_count": null,
   "id": "divine-syracuse",
   "metadata": {
    "slideshow": {
     "slide_type": "slide"
    }
   },
   "outputs": [],
   "source": [
    "plt.rcParams.update({'font.size': 22})"
   ]
  },
  {
   "cell_type": "code",
   "execution_count": null,
   "id": "technological-constitutional",
   "metadata": {
    "slideshow": {
     "slide_type": "fragment"
    }
   },
   "outputs": [],
   "source": [
    "plt.figure(figsize=(15, 10))\n",
    "plt.plot(cat_age_in_months, cat_weight_in_kg, 'o')\n",
    "plt.xlabel('Cat age in months')\n",
    "plt.ylabel('Cat weight in kilograms')\n",
    "plt.title(\"Cat weight by age\")\n",
    "plt.show()"
   ]
  }
 ],
 "metadata": {
  "celltoolbar": "Diavoorstelling",
  "kernelspec": {
   "display_name": "Python 3",
   "language": "python",
   "name": "python3"
  },
  "language_info": {
   "codemirror_mode": {
    "name": "ipython",
    "version": 3
   },
   "file_extension": ".py",
   "mimetype": "text/x-python",
   "name": "python",
   "nbconvert_exporter": "python",
   "pygments_lexer": "ipython3",
   "version": "3.8.6"
  }
 },
 "nbformat": 4,
 "nbformat_minor": 5
}
